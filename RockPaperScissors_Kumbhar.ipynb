{
 "cells": [
  {
   "cell_type": "markdown",
   "id": "0616aadc",
   "metadata": {},
   "source": [
    "ROCK, PAPER, SCISSORS: THE GAME - KUMBHAR"
   ]
  },
  {
   "cell_type": "code",
   "execution_count": null,
   "id": "c301187a",
   "metadata": {},
   "outputs": [],
   "source": [
    "import random"
   ]
  },
  {
   "cell_type": "code",
   "execution_count": null,
   "id": "05e30e28",
   "metadata": {},
   "outputs": [],
   "source": [
    "while True:\n",
    "    choices = ['rock','paper','scissors']\n",
    "    computer = random.choice(choices)\n",
    "    player = None\n",
    "    while player not in choices:\n",
    "        player = input(\"rock, paper, or scissors?: \").lower()\n",
    "        if player == computer:\n",
    "            print(\"computer: \",computer)\n",
    "            print(\"player: \", player)\n",
    "            print(\"Tie!\")\n",
    "        elif player == \"rock\":\n",
    "            if computer == \"paper\":\n",
    "                print(\"computer: \",computer)\n",
    "                print(\"player: \", player)\n",
    "                print(\"You lose!\")\n",
    "            else:\n",
    "                print(\"computer: \",computer)\n",
    "                print(\"player: \", player)\n",
    "                print(\"You won!\")\n",
    "        elif player == \"paper\":\n",
    "            if computer == \"scissors\":\n",
    "                print(\"computer: \",computer)\n",
    "                print(\"player: \", player)\n",
    "                print(\"You lose!\")\n",
    "            else:\n",
    "                print(\"computer: \",computer)\n",
    "                print(\"player: \", player)\n",
    "                print(\"You won!\")\n",
    "        else:\n",
    "            if computer == \"rock\":\n",
    "                print(\"computer: \",computer)\n",
    "                print(\"player: \", player)\n",
    "                print(\"You lose!\")\n",
    "            else:\n",
    "                print(\"computer: \",computer)\n",
    "                print(\"player: \", player)\n",
    "                print(\"You won!\")\n",
    "            \n",
    "    play_again = input(\"Play again? (yes/no): \")\n",
    "    if play_again != 'yes':\n",
    "        break\n",
    "print(\"Bye\")"
   ]
  }
 ],
 "metadata": {
  "kernelspec": {
   "display_name": "Python 3 (ipykernel)",
   "language": "python",
   "name": "python3"
  },
  "language_info": {
   "codemirror_mode": {
    "name": "ipython",
    "version": 3
   },
   "file_extension": ".py",
   "mimetype": "text/x-python",
   "name": "python",
   "nbconvert_exporter": "python",
   "pygments_lexer": "ipython3",
   "version": "3.11.4"
  }
 },
 "nbformat": 4,
 "nbformat_minor": 5
}
